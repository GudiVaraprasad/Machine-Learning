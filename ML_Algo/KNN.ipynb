{
  "nbformat": 4,
  "nbformat_minor": 0,
  "metadata": {
    "colab": {
      "name": "KNN_Lab7.ipynb",
      "provenance": [],
      "collapsed_sections": []
    },
    "kernelspec": {
      "name": "python3",
      "display_name": "Python 3"
    },
    "language_info": {
      "name": "python"
    }
  },
  "cells": [
    {
      "cell_type": "markdown",
      "metadata": {
        "id": "JaN4KA6UI9nf"
      },
      "source": [
        "### **Gudi Varaprasad**\n",
        "\n",
        "### **19BCE7048**\n",
        "\n",
        "**Lab Slot – L1 + L2 + L11 + L12 + L43 + L44**\n",
        "\n",
        "**Lab 7 – Implement K-NN Algorithm**"
      ]
    },
    {
      "cell_type": "markdown",
      "metadata": {
        "id": "EuBnRqzgJEPL"
      },
      "source": [
        "## **K-Nearest Neighbor(KNN) Algorithm**"
      ]
    },
    {
      "cell_type": "markdown",
      "metadata": {
        "id": "zclW0GPvKqYf"
      },
      "source": [
        "Get **iris** dataset from [here](https://archive.ics.uci.edu/ml/machine-learning-databases/iris/iris.data)"
      ]
    },
    {
      "cell_type": "code",
      "metadata": {
        "colab": {
          "base_uri": "https://localhost:8080/",
          "height": 639
        },
        "id": "GsLXgi7GIQ2H",
        "outputId": "ffeae232-e00e-40bb-ffbd-1231c2288414"
      },
      "source": [
        "import numpy as np\n",
        "import matplotlib.pyplot as plt\n",
        "import pandas as pd\n",
        "url = \"https://archive.ics.uci.edu/ml/machine-learning-databases/iris/iris.data\"\n",
        "names = ['sepal-length', 'sepal-width', 'petal-length', 'petal-width', 'Class']\n",
        "dataset = pd.read_csv(url, names=names)\n",
        "dataset.head()\n",
        "X = dataset.iloc[:, :-1].values\n",
        "y = dataset.iloc[:, 4].values\n",
        "from sklearn.model_selection import train_test_split\n",
        "X_train, X_test, y_train, y_test = train_test_split(X, y, test_size=0.20)\n",
        "from sklearn.preprocessing import StandardScaler\n",
        "scaler = StandardScaler()\n",
        "scaler.fit(X_train)\n",
        " \n",
        "X_train = scaler.transform(X_train)\n",
        "X_test = scaler.transform(X_test)\n",
        " \n",
        "from sklearn.neighbors import KNeighborsClassifier\n",
        "classifier = KNeighborsClassifier(n_neighbors=5)\n",
        "classifier.fit(X_train, y_train)\n",
        "y_pred = classifier.predict(X_test)\n",
        "y_pred\n",
        "from sklearn.metrics import classification_report, confusion_matrix\n",
        "print(confusion_matrix(y_test, y_pred))\n",
        "print(classification_report(y_test, y_pred))\n",
        "error = []\n",
        "for i in range(1, 40):\n",
        "    knn = KNeighborsClassifier(n_neighbors=i)\n",
        "    knn.fit(X_train, y_train)\n",
        "    pred_i = knn.predict(X_test)\n",
        "    error.append(np.mean(pred_i != y_test))\n",
        " \n",
        "plt.figure(figsize=(12, 6))\n",
        "plt.plot(range(1, 40), error, color='red', linestyle='dashed', marker='o',\n",
        "         markerfacecolor='blue', markersize=10)\n",
        "plt.title('Error Rate K Value')\n",
        "plt.xlabel('K Value')\n",
        "plt.ylabel('Mean Error')"
      ],
      "execution_count": 2,
      "outputs": [
        {
          "output_type": "stream",
          "name": "stdout",
          "text": [
            "[[12  0  0]\n",
            " [ 0 13  1]\n",
            " [ 0  0  4]]\n",
            "                 precision    recall  f1-score   support\n",
            "\n",
            "    Iris-setosa       1.00      1.00      1.00        12\n",
            "Iris-versicolor       1.00      0.93      0.96        14\n",
            " Iris-virginica       0.80      1.00      0.89         4\n",
            "\n",
            "       accuracy                           0.97        30\n",
            "      macro avg       0.93      0.98      0.95        30\n",
            "   weighted avg       0.97      0.97      0.97        30\n",
            "\n"
          ]
        },
        {
          "output_type": "execute_result",
          "data": {
            "text/plain": [
              "Text(0, 0.5, 'Mean Error')"
            ]
          },
          "metadata": {},
          "execution_count": 2
        },
        {
          "output_type": "display_data",
          "data": {
            "image/png": "[encoded data removed]",
            "text/plain": [
              "<Figure size 864x432 with 1 Axes>"
            ]
          },
          "metadata": {
            "needs_background": "light"
          }
        }
      ]
    },
    {
      "cell_type": "markdown",
      "metadata": {
        "id": "gvpBb1A2JVi_"
      },
      "source": [
        "## **Weighted K-Nearest Neighbor Algorithm**"
      ]
    },
    {
      "cell_type": "code",
      "metadata": {
        "colab": {
          "base_uri": "https://localhost:8080/"
        },
        "id": "fR9Xg03IJegy",
        "outputId": "1e4c70b4-b701-4205-a02a-5b0607a67334"
      },
      "source": [
        "import math  \n",
        "def weightedkNN(points,p,k=3): \n",
        "    distance=[] \n",
        "    for group in points: \n",
        "        for feature in points[group]: \n",
        "            euclidean_distance = math.sqrt((feature[0]-p[0])**2 +(feature[1]-p[1])**2) \n",
        "            distance.append((euclidean_distance,group))  \n",
        "    distance = sorted(distance)[:k] \n",
        "    freq1 = 0 # weighted sum of group 0 \n",
        "    freq2 = 0 # weighted sum of group 1 \n",
        "    for d in distance:\n",
        "        if d[1] == 0:\n",
        "            freq1 += (1 / d[0])\n",
        "              \n",
        "        elif d[1] == 1:\n",
        "          freq2 += (1 /d[0])\n",
        "    return 0 if freq1>freq2 else 1 \n",
        "def main(): \n",
        "    # Dictionary of training points having two keys - 0 and 1 \n",
        "    # key 0 have points belong to class 0 \n",
        "    # key 1 have points belong to class 1 \n",
        "    points = {0:[(0, 4),(1, 4.9),(1.6, 5.4),(2.2, 6),(2.8, 7),(3.2, 8),(3.4, 9)], \n",
        "            1:[(1.8, 1),(2.2, 3),(3, 4),(4, 4.5),(5, 5),(6, 5.5)]} \n",
        "    # query point p(x,y) \n",
        "    p = (2, 3) \n",
        "    # Number of neighbors \n",
        "    k = 5\n",
        "    print(\"\\nQuery Point p(x,y) = \", p)\n",
        "    print(\"\\nNo. of neighbors = \", k)\n",
        "    print(\"\\nThe value classified to query point is: {}\".format(weightedkNN(points,p,k))) \n",
        "if __name__ == '__main__': \n",
        "    main()\n"
      ],
      "execution_count": 8,
      "outputs": [
        {
          "output_type": "stream",
          "name": "stdout",
          "text": [
            "\n",
            "Query Point p(x,y) =  (2, 3)\n",
            "\n",
            "No. of neighbors =  5\n",
            "\n",
            "The value classified to query point is: 1\n"
          ]
        }
      ]
    }
  ]
}