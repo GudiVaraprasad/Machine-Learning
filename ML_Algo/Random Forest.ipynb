{
  "nbformat": 4,
  "nbformat_minor": 0,
  "metadata": {
    "colab": {
      "name": "RandomForest_Lab4.ipynb",
      "provenance": [],
      "collapsed_sections": []
    },
    "kernelspec": {
      "name": "python3",
      "display_name": "Python 3"
    },
    "language_info": {
      "name": "python"
    }
  },
  "cells": [
    {
      "cell_type": "code",
      "metadata": {
        "id": "cqpzkueP1sjb"
      },
      "source": [
        "#25/10/2021\n",
        "#19BCE7048\n",
        "#Random Forest - pima-indians-diabetes.csv dataset"
      ],
      "execution_count": 10,
      "outputs": []
    },
    {
      "cell_type": "code",
      "metadata": {
        "colab": {
          "base_uri": "https://localhost:8080/"
        },
        "id": "EGcTJ8jOi_dp",
        "outputId": "f6b97e79-3a2f-4997-b6bd-389bcafb6bbc"
      },
      "source": [
        "import pandas as pd\n",
        "import numpy as np\n",
        "dataset = pd.read_csv(\"/content/sample_data/pima-indians-diabetes.csv\")\n",
        "X = dataset.iloc[:, 0:7].values\n",
        "y = dataset.iloc[:, 8].values\n",
        "from sklearn.model_selection import train_test_split\n",
        "\n",
        "X_train, X_test, y_train, y_test = train_test_split(X, y, test_size=0.2, random_state=32)\n",
        "# Feature Scaling\n",
        "from sklearn.preprocessing import StandardScaler\n",
        "\n",
        "sc = StandardScaler()\n",
        "X_train = sc.fit_transform(X_train)\n",
        "X_test = sc.transform(X_test)\n",
        "\n",
        "from sklearn.ensemble import RandomForestClassifier\n",
        "\n",
        "classifier = RandomForestClassifier(n_estimators=100, random_state=0)\n",
        "classifier.fit(X_train, y_train)\n",
        "y_pred = classifier.predict(X_test)\n",
        "print(\"Prediction for test data set will be:\",y_pred)\n",
        "from sklearn.metrics import classification_report, confusion_matrix, accuracy_score\n",
        "print('Confusion matrix:')\n",
        "print(confusion_matrix(y_test,y_pred))\n",
        "print('Classification report:')\n",
        "print(classification_report(y_test,y_pred))\n",
        "print('accuracy:')\n",
        "print(accuracy_score(y_test, y_pred)*100)"
      ],
      "execution_count": 2,
      "outputs": [
        {
          "output_type": "stream",
          "name": "stdout",
          "text": [
            "Prediction for test data set will be: [0 0 0 0 1 0 0 1 0 1 0 0 0 0 0 0 0 0 0 0 1 0 1 1 1 1 0 0 0 0 0 0 1 1 0 1 0\n",
            " 1 0 0 1 0 0 1 0 0 0 0 0 0 0 0 0 0 1 1 0 1 0 1 0 0 0 1 1 0 1 1 0 0 1 0 0 0\n",
            " 0 1 0 1 0 1 0 1 0 0 1 0 0 0 1 0 1 0 0 1 0 0 0 0 0 0 1 1 0 1 0 0 0 1 0 1 0\n",
            " 1 0 0 0 1 1 0 0 1 1 0 0 0 0 0 0 0 0 1 0 0 1 0 1 0 1 1 0 0 0 1 0 1 0 0 1 0\n",
            " 1 0 1 0 0 0 0 1 0 1 1 0 1 1 1 0 0 0 0 0 0 0 1 0 1 0 1 1 0 1 0 0 0 0 1 0 0\n",
            " 0 0 0 1 1 1 1 0 0 0 1 1 0 1 0 1 1 1 1 0 1 0 0 0 0 1 0 1 0 0 1 1 1 0 0 0 1\n",
            " 1 0 0 0 0 1 0 0]\n",
            "Confusion matrix:\n",
            "[[135  12]\n",
            " [ 12  71]]\n",
            "Classification report:\n",
            "              precision    recall  f1-score   support\n",
            "\n",
            "           0       0.92      0.92      0.92       147\n",
            "           1       0.86      0.86      0.86        83\n",
            "\n",
            "    accuracy                           0.90       230\n",
            "   macro avg       0.89      0.89      0.89       230\n",
            "weighted avg       0.90      0.90      0.90       230\n",
            "\n",
            "accuracy:\n",
            "89.56521739130436\n"
          ]
        }
      ]
    }
  ]
}