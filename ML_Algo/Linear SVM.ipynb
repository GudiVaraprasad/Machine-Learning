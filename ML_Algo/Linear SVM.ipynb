{
  "nbformat": 4,
  "nbformat_minor": 0,
  "metadata": {
    "colab": {
      "name": "Linear_SVM_Lab8.ipynb",
      "provenance": [],
      "collapsed_sections": []
    },
    "kernelspec": {
      "name": "python3",
      "display_name": "Python 3"
    },
    "language_info": {
      "name": "python"
    }
  },
  "cells": [
    {
      "cell_type": "markdown",
      "metadata": {
        "id": "7Jcy0l_3X-w6"
      },
      "source": [
        "### **Gudi Varaprasad**\n",
        "\n",
        "### **19BCE7048**\n",
        "\n",
        "**Lab Slot – L1 + L2 + L11 + L12 + L43 + L44**\n",
        "\n",
        "**Lab 8 – Implement Linear SVM**"
      ]
    },
    {
      "cell_type": "code",
      "metadata": {
        "id": "cL-YKbMjXTTM"
      },
      "source": [
        "# Importing the libraries\n",
        "import numpy as np\n",
        "import matplotlib.pyplot as plt\n",
        "import pandas as pd\n",
        "from sklearn.metrics import accuracy_score\n",
        "from sklearn.metrics import precision_score\n",
        "from sklearn.metrics import recall_score\n",
        "from sklearn.metrics import confusion_matrix"
      ],
      "execution_count": 1,
      "outputs": []
    },
    {
      "cell_type": "code",
      "metadata": {
        "colab": {
          "base_uri": "https://localhost:8080/"
        },
        "id": "j0C8v4KKaXqU",
        "outputId": "0c63f9db-2ce2-4985-8ac3-3a0e29832213"
      },
      "source": [
        "# Importing the dataset\n",
        "dataset = pd.read_csv('/content/sample_data/pima-indians-diabetes.csv')\n",
        "print(\"\\n\", dataset, \"\\n\")\n",
        "X = dataset.iloc[:, 0:7].values\n",
        "y = dataset.iloc[:, 8].values"
      ],
      "execution_count": 2,
      "outputs": [
        {
          "output_type": "stream",
          "name": "stdout",
          "text": [
            "\n",
            "        Number of times pregnant  plasma concentration  ...  age  classification\n",
            "0                             6                   148  ...   50               1\n",
            "1                             1                    85  ...   31               0\n",
            "2                             8                   183  ...   32               1\n",
            "3                             1                    89  ...   21               0\n",
            "4                             0                   137  ...   33               1\n",
            "...                         ...                   ...  ...  ...             ...\n",
            "1143                          6                   123  ...   34               0\n",
            "1144                          0                   188  ...   22               1\n",
            "1145                          0                    67  ...   46               0\n",
            "1146                          1                    89  ...   21               0\n",
            "1147                          1                   173  ...   38               1\n",
            "\n",
            "[1148 rows x 9 columns] \n",
            "\n"
          ]
        }
      ]
    },
    {
      "cell_type": "code",
      "metadata": {
        "colab": {
          "base_uri": "https://localhost:8080/"
        },
        "id": "K4XbdWNVbsfG",
        "outputId": "e1746a40-c212-4660-c71c-c98ae94cf9f8"
      },
      "source": [
        "# Summary of dataset\n",
        "print(dataset.describe())"
      ],
      "execution_count": 12,
      "outputs": [
        {
          "output_type": "stream",
          "name": "stdout",
          "text": [
            "        Number of times pregnant  ...  classification\n",
            "count                1148.000000  ...     1148.000000\n",
            "mean                    3.935540  ...        0.358885\n",
            "std                     3.391773  ...        0.479882\n",
            "min                     0.000000  ...        0.000000\n",
            "25%                     1.000000  ...        0.000000\n",
            "50%                     3.000000  ...        0.000000\n",
            "75%                     6.000000  ...        1.000000\n",
            "max                    17.000000  ...        1.000000\n",
            "\n",
            "[8 rows x 9 columns]\n"
          ]
        }
      ]
    },
    {
      "cell_type": "code",
      "metadata": {
        "id": "cmPS3Okuamsn"
      },
      "source": [
        "# Splitting the dataset into the Training set and Test set\n",
        "from sklearn.model_selection import train_test_split\n",
        "X_train, X_test, y_train, y_test = train_test_split(X, y, test_size = 0.20, random_state = 32)"
      ],
      "execution_count": 3,
      "outputs": []
    },
    {
      "cell_type": "code",
      "metadata": {
        "colab": {
          "base_uri": "https://localhost:8080/"
        },
        "id": "PYetdixgYyYi",
        "outputId": "35758ab9-fff2-4f84-8b8e-d04e80469fe1"
      },
      "source": [
        "#Import svm model\n",
        "from sklearn import svm\n",
        "\n",
        "#Create a svm Classifier\n",
        "clf = svm.SVC(kernel='linear') # Linear Kernel\n",
        "\n",
        "#Train the model using the training sets\n",
        "clf.fit(X_train, y_train)"
      ],
      "execution_count": 5,
      "outputs": [
        {
          "output_type": "execute_result",
          "data": {
            "text/plain": [
              "SVC(C=1.0, break_ties=False, cache_size=200, class_weight=None, coef0=0.0,\n",
              "    decision_function_shape='ovr', degree=3, gamma='scale', kernel='linear',\n",
              "    max_iter=-1, probability=False, random_state=None, shrinking=True,\n",
              "    tol=0.001, verbose=False)"
            ]
          },
          "metadata": {},
          "execution_count": 5
        }
      ]
    },
    {
      "cell_type": "code",
      "metadata": {
        "colab": {
          "base_uri": "https://localhost:8080/"
        },
        "id": "2e_6U8LTaxgo",
        "outputId": "5af2ca0a-b22d-49a8-9639-5d98a222a9ed"
      },
      "source": [
        "#Predict the response for test dataset\n",
        "y_pred = clf.predict(X_test)\n",
        "\n",
        "print(\"\\nPredictions from dataset : \", y_pred, \"\\n\")"
      ],
      "execution_count": 6,
      "outputs": [
        {
          "output_type": "stream",
          "name": "stdout",
          "text": [
            "\n",
            "Predictions from dataset :  [0 0 0 0 1 0 0 1 1 1 0 0 1 0 0 0 0 0 0 0 1 0 1 1 1 1 1 0 0 0 1 0 0 1 0 1 0\n",
            " 0 0 0 1 0 0 0 0 0 0 0 0 0 0 0 0 0 1 0 0 1 0 0 0 0 0 0 1 0 1 0 0 0 1 0 0 0\n",
            " 0 1 0 1 0 1 1 1 0 0 1 0 0 0 0 0 0 0 0 0 0 0 0 0 0 0 0 1 0 1 0 0 0 1 0 1 0\n",
            " 0 0 0 0 1 1 0 0 1 0 0 0 0 0 0 0 0 0 0 0 0 1 0 0 0 0 0 0 0 1 0 0 1 0 0 0 0\n",
            " 0 1 1 0 1 0 0 0 0 1 0 0 0 1 1 0 0 0 0 0 0 0 1 0 1 0 1 1 1 0 0 0 0 0 1 0 0\n",
            " 0 0 0 0 1 0 0 0 0 0 0 0 0 1 0 0 1 1 1 0 0 0 0 0 0 0 0 1 1 0 0 1 1 0 0 0 1\n",
            " 1 0 0 0 0 1 0 0] \n",
            "\n"
          ]
        }
      ]
    },
    {
      "cell_type": "code",
      "metadata": {
        "colab": {
          "base_uri": "https://localhost:8080/"
        },
        "id": "J-9WeLkibEVA",
        "outputId": "95081b65-1162-4c45-c7ad-01b7d69ea5eb"
      },
      "source": [
        "# Model Accuracy: how often is the classifier correct?\n",
        "print(\"Accuracy:\",accuracy_score(y_test, y_pred)*100, \"\\n\")"
      ],
      "execution_count": 7,
      "outputs": [
        {
          "output_type": "stream",
          "name": "stdout",
          "text": [
            "Accuracy: 80.43478260869566 \n",
            "\n"
          ]
        }
      ]
    },
    {
      "cell_type": "code",
      "metadata": {
        "colab": {
          "base_uri": "https://localhost:8080/"
        },
        "id": "Vyyb3CqXbJtI",
        "outputId": "fafed05f-d039-4e11-8d26-c4f2bfaa8a63"
      },
      "source": [
        "# Model Precision: what percentage of positive tuples are labeled as such?\n",
        "print(\"\\nPrecision:\",precision_score(y_test, y_pred)*100, \"\\n\")\n",
        "\n",
        "# Model Recall: what percentage of positive tuples are labelled as such?\n",
        "print(\"\\nRecall:\",recall_score(y_test, y_pred)*100, \"\\n\")"
      ],
      "execution_count": 8,
      "outputs": [
        {
          "output_type": "stream",
          "name": "stdout",
          "text": [
            "\n",
            "Precision: 81.66666666666667 \n",
            "\n",
            "\n",
            "Recall: 59.036144578313255 \n",
            "\n"
          ]
        }
      ]
    },
    {
      "cell_type": "code",
      "metadata": {
        "colab": {
          "base_uri": "https://localhost:8080/"
        },
        "id": "RBCB3GDsbVkk",
        "outputId": "a4c4eb98-a683-4b1a-8850-f3a288571883"
      },
      "source": [
        "cm=confusion_matrix(y_test,y_pred)\n",
        "print(\"\\nConfusion matrix:\")\n",
        "print(cm)"
      ],
      "execution_count": 10,
      "outputs": [
        {
          "output_type": "stream",
          "name": "stdout",
          "text": [
            "\n",
            "Confusion matrix:\n",
            "[[136  11]\n",
            " [ 34  49]]\n"
          ]
        }
      ]
    }
  ]
}