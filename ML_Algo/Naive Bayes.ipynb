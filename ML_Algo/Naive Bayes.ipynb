{
  "nbformat": 4,
  "nbformat_minor": 0,
  "metadata": {
    "colab": {
      "name": "Naive_Bayes _Lab11.ipynb",
      "provenance": [],
      "collapsed_sections": []
    },
    "kernelspec": {
      "name": "python3",
      "display_name": "Python 3"
    },
    "language_info": {
      "name": "python"
    }
  },
  "cells": [
    {
      "cell_type": "markdown",
      "metadata": {
        "id": "YOdQLRMoJKc2"
      },
      "source": [
        "### **Gudi Varaprasad**\n",
        "\n",
        "### **19BCE7048**\n",
        "\n",
        "**Lab Slot – L1 + L2 + L11 + L12 + L43 + L44**"
      ]
    },
    {
      "cell_type": "markdown",
      "metadata": {
        "id": "OVlItiUSJMBS"
      },
      "source": [
        "### **Implement Naive Bayes algorithm for text data classification**"
      ]
    },
    {
      "cell_type": "markdown",
      "metadata": {
        "id": "Z-ypZgbHMzTd"
      },
      "source": [
        "## **Spam Filter using Naive Bayes Classifier**"
      ]
    },
    {
      "cell_type": "code",
      "metadata": {
        "colab": {
          "base_uri": "https://localhost:8080/",
          "height": 0
        },
        "id": "7SScQiLJI5Fd",
        "outputId": "76a0ea6c-7e11-410e-f063-275c4688c33a"
      },
      "source": [
        "# Importing the libraries\n",
        "import numpy as np\n",
        "import pandas as pd\n",
        "import matplotlib.pyplot as plt\n",
        "import seaborn as sns\n",
        "%matplotlib inline\n",
        "import nltk\n",
        "nltk.download('stopwords')"
      ],
      "execution_count": 10,
      "outputs": [
        {
          "output_type": "stream",
          "name": "stdout",
          "text": [
            "[nltk_data] Downloading package stopwords to /root/nltk_data...\n",
            "[nltk_data]   Unzipping corpora/stopwords.zip.\n"
          ]
        },
        {
          "output_type": "execute_result",
          "data": {
            "text/plain": [
              "True"
            ]
          },
          "metadata": {},
          "execution_count": 10
        }
      ]
    },
    {
      "cell_type": "code",
      "metadata": {
        "colab": {
          "base_uri": "https://localhost:8080/",
          "height": 203
        },
        "id": "-Nu4kumwNILE",
        "outputId": "eaf150cc-90a7-4806-df09-4d9775887b35"
      },
      "source": [
        "# Importing the dataset\n",
        "df = pd.read_csv('/content/sample_data/spam.csv', encoding='latin-1')[['v1', 'v2']]\n",
        "df.columns = ['label', 'message']\n",
        "df.head()"
      ],
      "execution_count": 5,
      "outputs": [
        {
          "output_type": "execute_result",
          "data": {
            "text/html": [
              "<div>\n",
              "<style scoped>\n",
              "    .dataframe tbody tr th:only-of-type {\n",
              "        vertical-align: middle;\n",
              "    }\n",
              "\n",
              "    .dataframe tbody tr th {\n",
              "        vertical-align: top;\n",
              "    }\n",
              "\n",
              "    .dataframe thead th {\n",
              "        text-align: right;\n",
              "    }\n",
              "</style>\n",
              "<table border=\"1\" class=\"dataframe\">\n",
              "  <thead>\n",
              "    <tr style=\"text-align: right;\">\n",
              "      <th></th>\n",
              "      <th>label</th>\n",
              "      <th>message</th>\n",
              "    </tr>\n",
              "  </thead>\n",
              "  <tbody>\n",
              "    <tr>\n",
              "      <th>0</th>\n",
              "      <td>ham</td>\n",
              "      <td>Go until jurong point, crazy.. Available only ...</td>\n",
              "    </tr>\n",
              "    <tr>\n",
              "      <th>1</th>\n",
              "      <td>ham</td>\n",
              "      <td>Ok lar... Joking wif u oni...</td>\n",
              "    </tr>\n",
              "    <tr>\n",
              "      <th>2</th>\n",
              "      <td>spam</td>\n",
              "      <td>Free entry in 2 a wkly comp to win FA Cup fina...</td>\n",
              "    </tr>\n",
              "    <tr>\n",
              "      <th>3</th>\n",
              "      <td>ham</td>\n",
              "      <td>U dun say so early hor... U c already then say...</td>\n",
              "    </tr>\n",
              "    <tr>\n",
              "      <th>4</th>\n",
              "      <td>ham</td>\n",
              "      <td>Nah I don't think he goes to usf, he lives aro...</td>\n",
              "    </tr>\n",
              "  </tbody>\n",
              "</table>\n",
              "</div>"
            ],
            "text/plain": [
              "  label                                            message\n",
              "0   ham  Go until jurong point, crazy.. Available only ...\n",
              "1   ham                      Ok lar... Joking wif u oni...\n",
              "2  spam  Free entry in 2 a wkly comp to win FA Cup fina...\n",
              "3   ham  U dun say so early hor... U c already then say...\n",
              "4   ham  Nah I don't think he goes to usf, he lives aro..."
            ]
          },
          "metadata": {},
          "execution_count": 5
        }
      ]
    },
    {
      "cell_type": "code",
      "metadata": {
        "colab": {
          "base_uri": "https://localhost:8080/",
          "height": 172
        },
        "id": "9ZmLZeo4NSzn",
        "outputId": "5eb742d4-9c31-4209-e38c-5f5cf884cd9a"
      },
      "source": [
        "df.groupby('label').describe()"
      ],
      "execution_count": 6,
      "outputs": [
        {
          "output_type": "execute_result",
          "data": {
            "text/html": [
              "<div>\n",
              "<style scoped>\n",
              "    .dataframe tbody tr th:only-of-type {\n",
              "        vertical-align: middle;\n",
              "    }\n",
              "\n",
              "    .dataframe tbody tr th {\n",
              "        vertical-align: top;\n",
              "    }\n",
              "\n",
              "    .dataframe thead tr th {\n",
              "        text-align: left;\n",
              "    }\n",
              "\n",
              "    .dataframe thead tr:last-of-type th {\n",
              "        text-align: right;\n",
              "    }\n",
              "</style>\n",
              "<table border=\"1\" class=\"dataframe\">\n",
              "  <thead>\n",
              "    <tr>\n",
              "      <th></th>\n",
              "      <th colspan=\"4\" halign=\"left\">message</th>\n",
              "    </tr>\n",
              "    <tr>\n",
              "      <th></th>\n",
              "      <th>count</th>\n",
              "      <th>unique</th>\n",
              "      <th>top</th>\n",
              "      <th>freq</th>\n",
              "    </tr>\n",
              "    <tr>\n",
              "      <th>label</th>\n",
              "      <th></th>\n",
              "      <th></th>\n",
              "      <th></th>\n",
              "      <th></th>\n",
              "    </tr>\n",
              "  </thead>\n",
              "  <tbody>\n",
              "    <tr>\n",
              "      <th>ham</th>\n",
              "      <td>4825</td>\n",
              "      <td>4516</td>\n",
              "      <td>Sorry, I'll call later</td>\n",
              "      <td>30</td>\n",
              "    </tr>\n",
              "    <tr>\n",
              "      <th>spam</th>\n",
              "      <td>747</td>\n",
              "      <td>653</td>\n",
              "      <td>Please call our customer service representativ...</td>\n",
              "      <td>4</td>\n",
              "    </tr>\n",
              "  </tbody>\n",
              "</table>\n",
              "</div>"
            ],
            "text/plain": [
              "      message                                                               \n",
              "        count unique                                                top freq\n",
              "label                                                                       \n",
              "ham      4825   4516                             Sorry, I'll call later   30\n",
              "spam      747    653  Please call our customer service representativ...    4"
            ]
          },
          "metadata": {},
          "execution_count": 6
        }
      ]
    },
    {
      "cell_type": "code",
      "metadata": {
        "colab": {
          "base_uri": "https://localhost:8080/",
          "height": 297
        },
        "id": "i0LbkN_2NgeE",
        "outputId": "fe0c55f2-07e8-455f-c4ce-3e5254ea8784"
      },
      "source": [
        "sns.countplot(data=df, x='label')"
      ],
      "execution_count": 7,
      "outputs": [
        {
          "output_type": "execute_result",
          "data": {
            "text/plain": [
              "<matplotlib.axes._subplots.AxesSubplot at 0x7f910aab30d0>"
            ]
          },
          "metadata": {},
          "execution_count": 7
        },
        {
          "output_type": "display_data",
          "data": {
            "image/png": "[encoded data removed]",
            "text/plain": [
              "<Figure size 432x288 with 1 Axes>"
            ]
          },
          "metadata": {
            "needs_background": "light"
          }
        }
      ]
    },
    {
      "cell_type": "code",
      "metadata": {
        "id": "KGW0r6g8NqBx"
      },
      "source": [
        "import string\n",
        "from nltk.corpus import stopwords\n",
        "from nltk import PorterStemmer as Stemmer\n",
        "def process(text):\n",
        "    # lowercase it\n",
        "    text = text.lower()\n",
        "    # remove punctuation\n",
        "    text = ''.join([t for t in text if t not in string.punctuation])\n",
        "    # remove stopwords\n",
        "    text = [t for t in text.split() if t not in stopwords.words('english')]\n",
        "    # stemming\n",
        "    st = Stemmer()\n",
        "    text = [st.stem(t) for t in text]\n",
        "    # return token list\n",
        "    return text"
      ],
      "execution_count": 8,
      "outputs": []
    },
    {
      "cell_type": "code",
      "metadata": {
        "colab": {
          "base_uri": "https://localhost:8080/",
          "height": 0
        },
        "id": "MdDiWyBoNsnE",
        "outputId": "7bd87cc2-7b16-4d52-bb4d-bedc455f40b3"
      },
      "source": [
        "# Testing\n",
        "process('It\\'s holiday and we are playing cricket. Jeff is playing very well!!!')"
      ],
      "execution_count": 11,
      "outputs": [
        {
          "output_type": "execute_result",
          "data": {
            "text/plain": [
              "['holiday', 'play', 'cricket', 'jeff', 'play', 'well']"
            ]
          },
          "metadata": {},
          "execution_count": 11
        }
      ]
    },
    {
      "cell_type": "code",
      "metadata": {
        "colab": {
          "base_uri": "https://localhost:8080/",
          "height": 0
        },
        "id": "xrvp_a8eN6uF",
        "outputId": "dfedde4a-e296-4d92-ce64-595cd4d6207e"
      },
      "source": [
        "# Test with our dataset\n",
        "df['message'][:20].apply(process)"
      ],
      "execution_count": 12,
      "outputs": [
        {
          "output_type": "execute_result",
          "data": {
            "text/plain": [
              "0     [go, jurong, point, crazi, avail, bugi, n, gre...\n",
              "1                          [ok, lar, joke, wif, u, oni]\n",
              "2     [free, entri, 2, wkli, comp, win, fa, cup, fin...\n",
              "3         [u, dun, say, earli, hor, u, c, alreadi, say]\n",
              "4     [nah, dont, think, goe, usf, live, around, tho...\n",
              "5     [freemsg, hey, darl, 3, week, word, back, id, ...\n",
              "6     [even, brother, like, speak, treat, like, aid,...\n",
              "7     [per, request, mell, mell, oru, minnaminungint...\n",
              "8     [winner, valu, network, custom, select, receiv...\n",
              "9     [mobil, 11, month, u, r, entitl, updat, latest...\n",
              "10    [im, gonna, home, soon, dont, want, talk, stuf...\n",
              "11    [six, chanc, win, cash, 100, 20000, pound, txt...\n",
              "12    [urgent, 1, week, free, membership, å£100000, ...\n",
              "13    [ive, search, right, word, thank, breather, pr...\n",
              "14                                       [date, sunday]\n",
              "15    [xxxmobilemovieclub, use, credit, click, wap, ...\n",
              "16                                     [oh, kim, watch]\n",
              "17    [eh, u, rememb, 2, spell, name, ye, v, naughti...\n",
              "18    [fine, thatåõ, way, u, feel, thatåõ, way, gota...\n",
              "19    [england, v, macedonia, dont, miss, goalsteam,...\n",
              "Name: message, dtype: object"
            ]
          },
          "metadata": {},
          "execution_count": 12
        }
      ]
    },
    {
      "cell_type": "code",
      "metadata": {
        "id": "ZwcI-rjIOS6T"
      },
      "source": [
        "from sklearn.feature_extraction.text import TfidfVectorizer"
      ],
      "execution_count": 13,
      "outputs": []
    },
    {
      "cell_type": "code",
      "metadata": {
        "id": "0cBPbw59OUaA"
      },
      "source": [
        "tfidfv = TfidfVectorizer(analyzer=process)\n",
        "data = tfidfv.fit_transform(df['message'])"
      ],
      "execution_count": 14,
      "outputs": []
    },
    {
      "cell_type": "code",
      "metadata": {
        "colab": {
          "base_uri": "https://localhost:8080/",
          "height": 0
        },
        "id": "WI1ALpacOXur",
        "outputId": "d4a8d839-2313-4a0c-8fd2-c6342f682a7e"
      },
      "source": [
        "mess = df.iloc[2]['message']\n",
        "j = tfidfv.transform([mess]).toarray()[0]\n",
        "print('index\\tidf\\ttfidf\\tterm')\n",
        "for i in range(len(j)):\n",
        "    if j[i] != 0:\n",
        "        print(i, format(tfidfv.idf_[i], '.4f'), format(j[i], '.4f'), tfidfv.get_feature_names()[i],sep='\\t')"
      ],
      "execution_count": 16,
      "outputs": [
        {
          "output_type": "stream",
          "name": "stdout",
          "text": [
            "index\tidf\ttfidf\tterm\n",
            "72\t8.5271\t0.2330\t08452810075over18\n",
            "413\t3.6544\t0.0999\t2\n",
            "420\t8.2394\t0.2252\t2005\n",
            "433\t8.2394\t0.2252\t21st\n",
            "833\t8.0163\t0.2191\t87121\n",
            "1180\t6.0993\t0.1667\tappli\n",
            "2076\t7.1408\t0.1952\tcomp\n",
            "2246\t7.4285\t0.2030\tcup\n",
            "2748\t6.5346\t0.3572\tentri\n",
            "2868\t8.5271\t0.4661\tfa\n",
            "2969\t6.0993\t0.1667\tfinal\n",
            "3091\t4.2096\t0.1151\tfree\n",
            "4592\t5.8190\t0.1590\tmay\n",
            "5768\t8.5271\t0.2330\tquestionstd\n",
            "5815\t8.5271\t0.2330\tratetc\n",
            "5856\t5.8645\t0.1603\treceiv\n",
            "6959\t4.3027\t0.1176\ttext\n",
            "7099\t8.0163\t0.2191\ttkt\n",
            "7276\t4.5137\t0.1234\ttxt\n",
            "7708\t5.2950\t0.1447\twin\n",
            "7741\t6.9176\t0.1891\twkli\n"
          ]
        }
      ]
    },
    {
      "cell_type": "code",
      "metadata": {
        "id": "Ua-2V_mNOieq"
      },
      "source": [
        "from sklearn.pipeline import Pipeline\n",
        "from sklearn.naive_bayes import MultinomialNB\n",
        "spam_filter = Pipeline([\n",
        "    ('vectorizer', TfidfVectorizer(analyzer=process)), # messages to weighted TFIDF score\n",
        "    ('classifier', MultinomialNB())                    # train on TFIDF vectors with Naive Bayes\n",
        "])"
      ],
      "execution_count": 17,
      "outputs": []
    },
    {
      "cell_type": "code",
      "metadata": {
        "id": "bXv8l7bMOk59"
      },
      "source": [
        "from sklearn.model_selection import train_test_split\n",
        "x_train, x_test, y_train, y_test = train_test_split(df['message'], df['label'], test_size=0.20, random_state = 21)"
      ],
      "execution_count": 18,
      "outputs": []
    },
    {
      "cell_type": "code",
      "metadata": {
        "colab": {
          "base_uri": "https://localhost:8080/",
          "height": 0
        },
        "id": "j1BCx71oOnd0",
        "outputId": "b779e69c-f9bc-4712-b7b9-1fb44e12d705"
      },
      "source": [
        "spam_filter.fit(x_train, y_train)"
      ],
      "execution_count": 19,
      "outputs": [
        {
          "output_type": "execute_result",
          "data": {
            "text/plain": [
              "Pipeline(memory=None,\n",
              "         steps=[('vectorizer',\n",
              "                 TfidfVectorizer(analyzer=<function process at 0x7f9109eacd40>,\n",
              "                                 binary=False, decode_error='strict',\n",
              "                                 dtype=<class 'numpy.float64'>,\n",
              "                                 encoding='utf-8', input='content',\n",
              "                                 lowercase=True, max_df=1.0, max_features=None,\n",
              "                                 min_df=1, ngram_range=(1, 1), norm='l2',\n",
              "                                 preprocessor=None, smooth_idf=True,\n",
              "                                 stop_words=None, strip_accents=None,\n",
              "                                 sublinear_tf=False,\n",
              "                                 token_pattern='(?u)\\\\b\\\\w\\\\w+\\\\b',\n",
              "                                 tokenizer=None, use_idf=True,\n",
              "                                 vocabulary=None)),\n",
              "                ('classifier',\n",
              "                 MultinomialNB(alpha=1.0, class_prior=None, fit_prior=True))],\n",
              "         verbose=False)"
            ]
          },
          "metadata": {},
          "execution_count": 19
        }
      ]
    },
    {
      "cell_type": "code",
      "metadata": {
        "id": "uchH4o9ROqoM"
      },
      "source": [
        "predictions = spam_filter.predict(x_test)"
      ],
      "execution_count": 20,
      "outputs": []
    },
    {
      "cell_type": "code",
      "metadata": {
        "colab": {
          "base_uri": "https://localhost:8080/",
          "height": 0
        },
        "id": "2MLl0cViOtPZ",
        "outputId": "286e8707-3fa6-48dc-a5ad-3ca1fb5e326c"
      },
      "source": [
        "count = 0\n",
        "for i in range(len(y_test)):\n",
        "    if y_test.iloc[i] != predictions[i]:\n",
        "        count += 1\n",
        "print('Total number of test cases', len(y_test))\n",
        "print('Number of wrong of predictions', count)"
      ],
      "execution_count": 21,
      "outputs": [
        {
          "output_type": "stream",
          "name": "stdout",
          "text": [
            "Total number of test cases 1115\n",
            "Number of wrong of predictions 39\n"
          ]
        }
      ]
    },
    {
      "cell_type": "code",
      "metadata": {
        "colab": {
          "base_uri": "https://localhost:8080/",
          "height": 0
        },
        "id": "eLOd8TE1Ow_I",
        "outputId": "bad13c64-59ee-4076-aa64-fac4b8b02b96"
      },
      "source": [
        "from sklearn.metrics import classification_report\n",
        "print(classification_report(predictions, y_test))"
      ],
      "execution_count": 22,
      "outputs": [
        {
          "output_type": "stream",
          "name": "stdout",
          "text": [
            "              precision    recall  f1-score   support\n",
            "\n",
            "         ham       1.00      0.96      0.98      1014\n",
            "        spam       0.72      1.00      0.84       101\n",
            "\n",
            "    accuracy                           0.97      1115\n",
            "   macro avg       0.86      0.98      0.91      1115\n",
            "weighted avg       0.97      0.97      0.97      1115\n",
            "\n"
          ]
        }
      ]
    },
    {
      "cell_type": "markdown",
      "metadata": {
        "id": "u7Kh58p9Ozv-"
      },
      "source": [
        "### **Example Test Case**"
      ]
    },
    {
      "cell_type": "code",
      "metadata": {
        "colab": {
          "base_uri": "https://localhost:8080/",
          "height": 35
        },
        "id": "DCUDPaQjO2t8",
        "outputId": "1a317188-952a-49da-f5c3-a1adefe9f875"
      },
      "source": [
        "def detect_spam(s):\n",
        "    return spam_filter.predict([s])[0]\n",
        "detect_spam('Your balance is currently 500 rupees. To maximize your now, SMS BANK DETAILS to 5006221.')"
      ],
      "execution_count": 28,
      "outputs": [
        {
          "output_type": "execute_result",
          "data": {
            "application/vnd.google.colaboratory.intrinsic+json": {
              "type": "string"
            },
            "text/plain": [
              "'spam'"
            ]
          },
          "metadata": {},
          "execution_count": 28
        }
      ]
    }
  ]
}